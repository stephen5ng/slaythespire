{
  "nbformat": 4,
  "nbformat_minor": 0,
  "metadata": {
    "colab": {
      "name": "SlayTheSpire.ipynb",
      "provenance": [],
      "collapsed_sections": [],
      "include_colab_link": true
    },
    "kernelspec": {
      "name": "python3",
      "display_name": "Python 3"
    },
    "language_info": {
      "name": "python"
    }
  },
  "cells": [
    {
      "cell_type": "markdown",
      "metadata": {
        "id": "view-in-github",
        "colab_type": "text"
      },
      "source": [
        "<a href=\"https://colab.research.google.com/github/stephen5ng/slaythespire/blob/main/SlayTheSpire.ipynb\" target=\"_parent\"><img src=\"https://colab.research.google.com/assets/colab-badge.svg\" alt=\"Open In Colab\"/></a>"
      ]
    },
    {
      "cell_type": "markdown",
      "source": [
        "# CLASSES"
      ],
      "metadata": {
        "id": "iTxDtwx326Yo"
      }
    },
    {
      "cell_type": "code",
      "execution_count": 3,
      "metadata": {
        "id": "xZCczo7GlYYR"
      },
      "outputs": [],
      "source": [
        "from itertools import combinations\n",
        "import math\n",
        "import matplotlib.pyplot as plt\n",
        "import numpy as np\n",
        "\n",
        "def average(values):\n",
        "  return sum([float(v) for v in values])/float(len((values)))\n",
        "\n",
        "class Card:\n",
        "  def __init__(\n",
        "      self, name, type, energy,\n",
        "      card_draw=0,\n",
        "      attack=0, attack_multiplier=1,\n",
        "      vulnerable=0,\n",
        "      poison=0,\n",
        "      block=0):\n",
        "    self.name = name\n",
        "    self.is_block = block > 0\n",
        "    self.is_attack = attack > 0\n",
        "    self.attack = attack\n",
        "    self.attack_multiplier = attack_multiplier\n",
        "    self.vulnerable = vulnerable\n",
        "    self.poison = poison\n",
        "    self.block = block\n",
        "    self.energy = energy\n",
        "  \n",
        "  def get_block(self, dexterity):\n",
        "    if not self.is_block:\n",
        "      return 0\n",
        "    return self.block + dexterity\n",
        "  \n",
        "  def get_attack(self, strength):\n",
        "    if not self.is_attack:\n",
        "      return 0\n",
        "    return (self.attack+strength)*self.attack_multiplier\n",
        "\n",
        "  def __str__(self):\n",
        "    return self.name\n",
        "\n",
        "class Deck:\n",
        "  def __init__(self, cards):\n",
        "    self.cards = cards\n",
        "    self.total_cards = len(cards)\n",
        "    self.total_block = sum([c.block for c in cards])\n",
        "    self.number_block_cards = sum([1 if c.is_block else 0 for c in cards])\n",
        "    self.total_attack = sum([c.attack for c in cards])\n",
        "    self.number_attack_cards = sum([1 if c.is_attack else 0 for c in cards])\n",
        "    self.total_energy = sum([c.energy for c in cards])\n",
        "\n",
        "  def avg_block(self, hand_size):\n",
        "    return average([c.block for c in self.cards]) * hand_size\n",
        "  \n",
        "  def avg_attack(self, hand_size):\n",
        "    return average([c.attack for c in self.cards]) * hand_size\n",
        "\n",
        "  def avg_energy(self, hand_size):\n",
        "    return average([c.energy for c in self.cards]) * hand_size\n",
        "\n",
        "  def __str__(self):\n",
        "    return \"\\n\".join([c.name for c in self.cards])\n",
        "\n",
        "class Hand:\n",
        "  def __init__(self, cards, dexterity, strength):\n",
        "    self.cards = [card.name for card in cards]\n",
        "    self.total_block = sum([card.get_block(dexterity) for card in cards])\n",
        "    self.total_attack = sum([card.get_attack(strength) for card in cards])\n",
        "    self.total_energy = sum([card.energy for card in cards])\n",
        "\n",
        "  def __str__(self):\n",
        "    return \"%s => BLOCK: %d, ATTACK: %d\" % (\n",
        "        \", \".join(self.cards), self.total_block, self.total_attack)\n",
        "    \n",
        "class Hands:\n",
        "  def __init__(self, deck, hand_size=5, dexterity=0, strength=0):\n",
        "    self.deck = deck\n",
        "    self.hand_size = hand_size\n",
        "    self.dexterity = dexterity\n",
        "    self.strength = strength\n",
        "    self.hands = self.get_combinations()\n",
        "    self.block_distribution = [h.total_block for h in self.hands]\n",
        "    self.attack_distribution = [h.total_attack for h in self.hands]\n",
        "    self.energy_distribution = [h.total_energy for h in self.hands]\n",
        "\n",
        "  def get_combinations(self):\n",
        "    hands = combinations(self.deck.cards, self.hand_size)\n",
        "    all_combinations = []\n",
        "    for hand in hands:\n",
        "      all_combinations.append(Hand(hand, self.dexterity, self.strength))\n",
        "    return all_combinations\n",
        "\n",
        "  def graph(title, distribution, width, the_bins=None):\n",
        "    plt.hist(distribution, bins=the_bins, width=width, density=True)\n",
        "    plt.locator_params(axis='x', nbins=len(the_bins))\n",
        "    plt.title(title)\n",
        "\n",
        "  def graph_block_distribution(self, bin_size=5):\n",
        "    bin_max = math.ceil(max(self.block_distribution)/bin_size) + 2\n",
        "    the_bins = [i*bin_size for i in range(0, bin_max)]\n",
        "    Hands.graph(\"BLOCK PER HAND\", self.block_distribution, 3, the_bins=the_bins)\n",
        "\n",
        "  def graph_attack_distribution(self, bin_size=5):\n",
        "    bin_max = math.ceil(max(self.attack_distribution)/bin_size) + 2\n",
        "    the_bins = [i*bin_size for i in range(0, bin_max)]\n",
        "    Hands.graph(\"ATTACK PER HAND\", self.attack_distribution, 3, the_bins=the_bins)\n",
        "\n",
        "  def graph_energy_distribution(self):\n",
        "    Hands.graph(\n",
        "        \"ENERGY COST PER HAND\",\n",
        "        self.energy_distribution,\n",
        "        0.5,\n",
        "        the_bins=[i for i in range(1, max(self.energy_distribution) + 2)])\n",
        "    \n",
        "  def print_compare_text(self, description, me, other):\n",
        "    print(\"%s: %f => %f\" % (description, me, other))\n",
        "\n",
        "  def print_compare_graph(self, my_graph, other_graph):\n",
        "    plt.subplot(1, 2, 1)\n",
        "    my_graph()\n",
        "    plt.subplot(1, 2, 2)\n",
        "    other_graph()\n",
        "    plt.show()\n",
        "\n",
        "  def compare(self, other):\n",
        "    d = self.deck\n",
        "    o = other.deck\n",
        "    self.print_compare_text(\"Number of Cards\", d.total_cards, o.total_cards)\n",
        "    self.print_compare_text(\n",
        "        \"Number of Attack Cards\", d.number_attack_cards, o.number_attack_cards)\n",
        "    self.print_compare_text(\n",
        "        \"Number of Block Cards\", d.number_block_cards, o.number_block_cards)\n",
        "    \n",
        "    print(\"\\nATTACKS\\n\")\n",
        "    self.print_compare_text(\"Total Attack\", d.total_attack, o.total_attack)\n",
        "    self.print_compare_text(\n",
        "        \"Avg Attack Per Hand\", d.avg_attack(self.hand_size), o.avg_attack(other.hand_size)\n",
        "    )\n",
        "    print(\"\\n\")\n",
        "    self.print_compare_graph(\n",
        "        self.graph_attack_distribution, other.graph_attack_distribution)\n",
        "\n",
        "    print(\"\\nBLOCKS\\n\")\n",
        "    self.print_compare_text(\"Total Block\", d.total_block, o.total_block)\n",
        "    self.print_compare_text(\n",
        "        \"Avg Block Per Hand\", d.avg_block(self.hand_size), o.avg_block(other.hand_size))\n",
        "    print(\"\\n\")\n",
        "    self.print_compare_graph(\n",
        "        self.graph_block_distribution, other.graph_block_distribution\n",
        "    )\n",
        "\n",
        "    print(\"\\nENERGY\\n\")\n",
        "    self.print_compare_text(\"Total Energy\", d.total_energy, o.total_energy)\n",
        "    self.print_compare_text(\"Avg Energy Per Hand\", d.avg_energy(self.hand_size), o.avg_energy(other.hand_size))\n",
        "    print(\"\\n\")\n",
        "    self.print_compare_graph(\n",
        "        self.graph_energy_distribution, other.graph_energy_distribution)\n",
        "    \n",
        "\n",
        "  def visualize(self):\n",
        "    print(\"******************************************\")\n",
        "    print(\"Number of Cards: %d\" % self.deck.total_cards)\n",
        "\n",
        "    print(\"Number of Attack Cards %d\" % self.deck.number_attack_cards)\n",
        "    print(\"Number of Block Cards: %d\" % self.deck.number_block_cards)\n",
        "\n",
        "    print(\"\\nATTACKS\\n\")\n",
        "    print(\"Total Attack: %d\" % self.deck.total_attack)\n",
        "    print(\"Avg Attack Per Hand: %f\" % self.deck.avg_attack(self.hand_size))\n",
        "    print(\"\\n\")\n",
        "    self.graph_attack_distribution()\n",
        "    plt.show()\n",
        "\n",
        "    print(\"\\nBLOCKS\\n\")\n",
        "    print(\"Total Block: %d\" %  self.deck.total_block)\n",
        "    print(\"Avg Block Per Hand: %f\" % self.deck.avg_block(self.hand_size))\n",
        "    print(\"\\n\")\n",
        "    self.graph_block_distribution()\n",
        "    plt.show()\n",
        "\n",
        "    print(\"\\nENERGY COST PER HAND\\n\")\n",
        "    print(\"Total Energy: %d\" % self.deck.total_energy)\n",
        "    print(\"Avg Energy Per Hand: %f\" % self.deck.avg_energy(self.hand_size))\n",
        "    self.graph_energy_distribution()\n",
        "    plt.show()"
      ]
    },
    {
      "cell_type": "markdown",
      "source": [
        "# CARDS"
      ],
      "metadata": {
        "id": "ikz-MwL42dE-"
      }
    },
    {
      "cell_type": "code",
      "source": [
        "ACROBATICS_PLUS = Card(\"Acrobatics+\", \"Skill\", 1)\n",
        "ADRENALINE = Card(\"Adrenaline\", \"Skill\", 0)\n",
        "AFTER_IMAGE_PLUS = Card(\"After Image+\", \"Power\", 1)\n",
        "BACKFLIP_PLUS = Card(\"Backflip+\", \"Skill\", 1, block=8)\n",
        "BANDAGE_UP = Card(\"Bandage Up\", \"Skill\", 0)\n",
        "BANE = Card(\"Bane\", \"Attack\", 1, attack=7)\n",
        "BASH = Card(\"Bash\", \"Attack\", 2, attack=8, vulnerable=2)\n",
        "BASH_PLUS = Card(\"Bash\", \"Attack\", 2, attack=10, vulnerable=3)\n",
        "BLADE_DANCE = Card(\n",
        "    \"Blade Dance\", \"Skill\", 1, attack=4, attack_multiplier=3)\n",
        "BLUR = Card(\"Blur\", \"Skill\", 1, block=5)\n",
        "BLUR_PLUS = Card(\"Blur+\", \"Skill\", 1, block=8)\n",
        "BOUNCING_FLASK = Card(\"Bouncing Flask\", \"Skill\", 2, poison=9)\n",
        "CLOAK_AND_DAGGER = Card(\n",
        "    \"Cloak and Dagger\", \"Skill\", 1, attack=4, block=6)\n",
        "CLOAK_AND_DAGGER_PLUS = Card(\n",
        "    \"Cloak and Dagger+\", \"Skill\", 1, attack=4, attack_multiplier=2, block=6)\n",
        "DAGGER_SPRAY_PLUS = Card(\n",
        "    \"Dagger Spray+\", \"Skill\", 1, attack=6, attack_multiplier=2)\n",
        "DAGGER_THROW = Card(\"Dagger Throw\", \"Attack\", 1, attack=9)\n",
        "DASH_PLUS = Card(\"Dash+\", \"Attack\", 2, attack=13, block=13)\n",
        "DEADLY_POISON = Card(\"Deadly Poison\", \"Skill\", 1, poison=5)\n",
        "DEADLY_POISON_PLUS = Card(\"Deadly Poison+\", \"Skill\", 1, poison=8)\n",
        "DEFEND = Card(\"Defend\", \"Skill\", 1, block=5)\n",
        "DEFEND_PLUS = Card(\"Defend+\", \"Skill\", 1, block=8)\n",
        "DODGE_AND_ROLL_PLUS = Card(\"Dodge and Roll+\", \"Skill\", 1, block=6) #### ????\n",
        "ENVENOM = Card(\"Envenom\", \"Power\", 2)\n",
        "ENVENOM_PLUS = Card(\"Envenom+\", \"Power\", 1)\n",
        "FINISHER_PLUS = Card(\"Finisher+\", \"Attack\", 1) ### ?????\n",
        "FOOTWORK = Card(\"Footwork\", \"Power\", 1)\n",
        "FOOTWORK_PLUS = Card(\"Footwork+\", \"Power\", 1)\n",
        "GLASS_KNIFE = Card(\"Glass Knife\", \"Attack\", 1, attack=8, attack_multiplier=2)\n",
        "HEEL_HOOK = Card(\"Heel Hook\", \"Attack\", 1, attack=5)\n",
        "LEG_SWEEP_PLUS = Card(\"Leg Sweep+\", \"Skill\", 2, block=14)\n",
        "NEUTRALIZE = Card(\"Neutralize\", \"Attack\", 0, attack=3)\n",
        "NEUTRALIZE_PLUS = Card(\"Neutralize+\", \"Attack\", 0, attack=4)\n",
        "NOXIOUS_FUMES = Card(\"Noxious Fumes\", \"Power\", 1)\n",
        "PIERCING_WAIL = Card(\"Piercing Wail\", \"Skill\", 1)\n",
        "PIERCING_WAIL_PLUS = Card(\"Piercing Wail+\", \"Skill\", 1)\n",
        "POISONED_STAB = Card(\"Poisoned Stab\", \"Attack\", 1, attack=6)\n",
        "PREDATOR = Card(\"Predator\", \"Attack\", 2, attack=15)\n",
        "PREDATOR_PLUS = Card(\"Predator\", \"Attack\", 2, attack=20)\n",
        "QUICK_SLASH = Card(\"Quick Slash\", \"Attack\", 1, attack=8)\n",
        "SNEAKY_STRIKE = Card(\"Sneaky Strike+\", \"Attack\", 2, attack=12)\n",
        "SNEAKY_STRIKE_PLUS = Card(\"Sneaky Strike\", \"Attack\", 2, attack=16)\n",
        "STRIKE = Card(\"Strike\", \"Attack\", 1, attack=6)\n",
        "STRIKE_PLUS = Card(\"Strike+\", \"Attack\", 1, attack=9)\n",
        "SURVIVOR = Card(\"Survivor\", \"Skill\", 1, block=8)\n",
        "SURVIVOR_PLUS = Card(\"Survivor\", \"Skill\", 1, block=11)\n",
        "THOUSAND_CUTS = Card(\"Thousand Cuts\", \"Power\", 1)\n",
        "TOOLS_OF_THE_TRADE_PLUS = Card(\"Tools of the Trade\", \"Power\", 0)\n",
        "WELL_LAID_PLANS = Card(\"Well Laid Plans\", \"Power\", 1)\n",
        "WELL_LAID_PLANS_PLUS = Card(\"Well Laid Plans\", \"Power\", 1)\n",
        "\n",
        "STARTER_DECK = Deck([STRIKE, STRIKE, STRIKE, STRIKE, STRIKE,\n",
        "                DEFEND, DEFEND, DEFEND, DEFEND, DEFEND, NEUTRALIZE])"
      ],
      "metadata": {
        "id": "JVg3sa1O2bdr"
      },
      "execution_count": 58,
      "outputs": []
    },
    {
      "cell_type": "markdown",
      "source": [
        ""
      ],
      "metadata": {
        "id": "i5tiG8EK6xbI"
      }
    },
    {
      "cell_type": "markdown",
      "source": [
        "# MONSTERS\n"
      ],
      "metadata": {
        "id": "A3hfPyn-6-4b"
      }
    },
    {
      "cell_type": "code",
      "source": [
        "import enum\n",
        "\n",
        "class Mode(enum.Enum):\n",
        "  INCANTATION = 1\n",
        "  DARK_STRIKE = 2\n",
        "\n",
        "class Cultist:\n",
        "  def __init__(self):\n",
        "    self.hp = 44\n",
        "    self.mode = Mode.INCANTATION\n",
        "    self.strength = 0\n",
        "  \n",
        "  def attack(self):\n",
        "    if self.mode == Mode.INCANTATION:\n",
        "      return 0\n",
        "    \n",
        "    return 6 + self.strength\n",
        "\n",
        "  def defend(self, incoming_damage):\n",
        "    self.hp -= incoming_damage\n",
        "    self.hp = max(0, self.hp)\n",
        "\n",
        "  def next_turn(self):\n",
        "    self.strength += 4\n",
        "    if self.mode == Mode.INCANTATION:\n",
        "      self.mode = Mode.DARK_STRIKE"
      ],
      "metadata": {
        "id": "eImF9yYW7S5F"
      },
      "execution_count": 5,
      "outputs": []
    },
    {
      "cell_type": "markdown",
      "source": [
        "# CHARACTERS\n",
        "\n"
      ],
      "metadata": {
        "id": "BWHnHMsp-NFA"
      }
    },
    {
      "cell_type": "code",
      "source": [
        "# Plays \"average\" hand on each turn.\n",
        "# All the multi-shot attack cards are averaged into a single super-attack card;\n",
        "# same for all the multi-shot defense cards.\n",
        "\n",
        "# On each turn, we try to play as many attack cards as possible; this gets us an\n",
        "# idealized attack.\n",
        "# The maximum number of cards that can be played is gated on either:\n",
        "# - The amount of available energy (default 3)\n",
        "# - The number of attack cards drawn (default 6/10 * 5 = 3)\n",
        "\n",
        "IRONCLAD_STARTER_DECK = Deck([STRIKE, STRIKE, STRIKE, STRIKE, STRIKE,\n",
        "                DEFEND, DEFEND, DEFEND, DEFEND, BASH])\n",
        "\n",
        "class Ironclad:  \n",
        "  def __init__(self, deck = None):\n",
        "    self.hp = 80\n",
        "    self.deck = deck if deck else IRONCLAD_STARTER_DECK\n",
        "    self.average_attack = 0\n",
        "    self.average_vulnerable = 0\n",
        "    self.average_energy_per_attack_card = 0\n",
        "    attack_total = 0\n",
        "    vulnerable_total = 0\n",
        "    attack_cards_count = 0\n",
        "    attack_energy_total = 0\n",
        "    \n",
        "    for card in self.deck.cards:\n",
        "      attack_total += card.attack\n",
        "      vulnerable_total += card.vulnerable\n",
        "      attack_cards_count += 1 if card.is_attack else 0\n",
        "      attack_energy_total += card.energy if card.is_attack else 0\n",
        "  \n",
        "    self.average_attack_cards_per_card = (attack_cards_count /\n",
        "                                          len(self.deck.cards))\n",
        "    self.average_attack = attack_total / attack_cards_count\n",
        "    self.average_vulnerable = vulnerable_total / attack_cards_count\n",
        "    self.average_energy_per_attack_card = (attack_energy_total /\n",
        "                                           attack_cards_count)\n",
        "\n",
        "  def __str__(self):\n",
        "    return(\"attack: \" + str(self.average_attack) + \" vulnerable: \" +\n",
        "           str(self.average_vulnerable) + \n",
        "           \" density: \" + str(self.average_attack_cards_per_card) + \n",
        "           \" cost: \" + str(self.average_energy_per_attack_card))\n",
        "\n",
        "  def attack(self):\n",
        "    attack_cards_drawn = 5 * self.average_attack_cards_per_card\n",
        "    attack_cards_bought = 3 / self.average_energy_per_attack_card\n",
        "    attack_cards = min(attack_cards_drawn, attack_cards_bought)\n",
        "    print(\"attacking cards played: \" + str(attack_cards))\n",
        "    return self.average_attack * attack_cards\n",
        "\n",
        "ic = Ironclad()\n"
      ],
      "metadata": {
        "id": "CrG3R_0N-Ga6"
      },
      "execution_count": 53,
      "outputs": []
    },
    {
      "cell_type": "markdown",
      "source": [
        "\n",
        "# PLAY"
      ],
      "metadata": {
        "id": "B_iFqeQnJ6KM"
      }
    },
    {
      "cell_type": "code",
      "source": [
        "player = Ironclad()\n",
        "monster = Cultist()\n",
        "\n",
        "print(player)\n",
        "print(player.deck)\n",
        "# Frontloaded damage is the total damage over 5 turns, scaled by 1 / (2^turn).\n",
        "# It includes 50% attack bonus for Vulnerable.\n",
        "# It assumes only attack cards are played (i.e. the best-case-scenario).\n",
        "\n",
        "def calc_frontloaded_damage(player):\n",
        "  frontloaded_damage = 0.0\n",
        "  frontloaded_multiplier = 1.0\n",
        "  for turn in range(1,21):\n",
        "    player_attack = player.attack()\n",
        "    damage = player_attack * (1+player.average_vulnerable*0.5)\n",
        "    print(\"attacking: \" + str(player_attack) + \", \" + str(damage))\n",
        "    if turn <= 5:\n",
        "      frontloaded_damage += damage * frontloaded_multiplier\n",
        "      frontloaded_multiplier /= 2.0\n",
        "\n",
        "  return frontloaded_damage\n",
        "\n",
        "BASH_PLUS_DECK = Deck([STRIKE, STRIKE, STRIKE, STRIKE, STRIKE,\n",
        "                DEFEND, DEFEND, DEFEND, DEFEND, BASH_PLUS])\n",
        "baseline = calc_frontloaded_damage(player)\n",
        "bash_plus = calc_frontloaded_damage(Ironclad(BASH_PLUS_DECK))\n",
        "\n",
        "print(\"Upgrading Bash to Bash+ increases frontload damage by \" + \n",
        "       str(100 * ((bash_plus / baseline) - 1)) + \" percent\")"
      ],
      "metadata": {
        "id": "dp478YGSJty8",
        "colab": {
          "base_uri": "https://localhost:8080/"
        },
        "outputId": "ba62c4a1-bcc6-4889-e245-4c6e083d5800"
      },
      "execution_count": 69,
      "outputs": [
        {
          "output_type": "stream",
          "name": "stdout",
          "text": [
            "attack: 6.333333333333333 vulnerable: 0.3333333333333333 density: 0.6 cost: 1.1666666666666667\n",
            "Strike\n",
            "Strike\n",
            "Strike\n",
            "Strike\n",
            "Strike\n",
            "Defend\n",
            "Defend\n",
            "Defend\n",
            "Defend\n",
            "Bash\n",
            "attacking cards played: 2.571428571428571\n",
            "attacking: 16.285714285714285, 19.0\n",
            "attacking cards played: 2.571428571428571\n",
            "attacking: 16.285714285714285, 19.0\n",
            "attacking cards played: 2.571428571428571\n",
            "attacking: 16.285714285714285, 19.0\n",
            "attacking cards played: 2.571428571428571\n",
            "attacking: 16.285714285714285, 19.0\n",
            "attacking cards played: 2.571428571428571\n",
            "attacking: 16.285714285714285, 19.0\n",
            "attacking cards played: 2.571428571428571\n",
            "attacking: 16.285714285714285, 19.0\n",
            "attacking cards played: 2.571428571428571\n",
            "attacking: 16.285714285714285, 19.0\n",
            "attacking cards played: 2.571428571428571\n",
            "attacking: 16.285714285714285, 19.0\n",
            "attacking cards played: 2.571428571428571\n",
            "attacking: 16.285714285714285, 19.0\n",
            "attacking cards played: 2.571428571428571\n",
            "attacking: 16.285714285714285, 19.0\n",
            "attacking cards played: 2.571428571428571\n",
            "attacking: 16.285714285714285, 19.0\n",
            "attacking cards played: 2.571428571428571\n",
            "attacking: 16.285714285714285, 19.0\n",
            "attacking cards played: 2.571428571428571\n",
            "attacking: 16.285714285714285, 19.0\n",
            "attacking cards played: 2.571428571428571\n",
            "attacking: 16.285714285714285, 19.0\n",
            "attacking cards played: 2.571428571428571\n",
            "attacking: 16.285714285714285, 19.0\n",
            "attacking cards played: 2.571428571428571\n",
            "attacking: 16.285714285714285, 19.0\n",
            "attacking cards played: 2.571428571428571\n",
            "attacking: 16.285714285714285, 19.0\n",
            "attacking cards played: 2.571428571428571\n",
            "attacking: 16.285714285714285, 19.0\n",
            "attacking cards played: 2.571428571428571\n",
            "attacking: 16.285714285714285, 19.0\n",
            "attacking cards played: 2.571428571428571\n",
            "attacking: 16.285714285714285, 19.0\n",
            "attacking cards played: 2.571428571428571\n",
            "attacking: 17.142857142857142, 21.428571428571427\n",
            "attacking cards played: 2.571428571428571\n",
            "attacking: 17.142857142857142, 21.428571428571427\n",
            "attacking cards played: 2.571428571428571\n",
            "attacking: 17.142857142857142, 21.428571428571427\n",
            "attacking cards played: 2.571428571428571\n",
            "attacking: 17.142857142857142, 21.428571428571427\n",
            "attacking cards played: 2.571428571428571\n",
            "attacking: 17.142857142857142, 21.428571428571427\n",
            "attacking cards played: 2.571428571428571\n",
            "attacking: 17.142857142857142, 21.428571428571427\n",
            "attacking cards played: 2.571428571428571\n",
            "attacking: 17.142857142857142, 21.428571428571427\n",
            "attacking cards played: 2.571428571428571\n",
            "attacking: 17.142857142857142, 21.428571428571427\n",
            "attacking cards played: 2.571428571428571\n",
            "attacking: 17.142857142857142, 21.428571428571427\n",
            "attacking cards played: 2.571428571428571\n",
            "attacking: 17.142857142857142, 21.428571428571427\n",
            "attacking cards played: 2.571428571428571\n",
            "attacking: 17.142857142857142, 21.428571428571427\n",
            "attacking cards played: 2.571428571428571\n",
            "attacking: 17.142857142857142, 21.428571428571427\n",
            "attacking cards played: 2.571428571428571\n",
            "attacking: 17.142857142857142, 21.428571428571427\n",
            "attacking cards played: 2.571428571428571\n",
            "attacking: 17.142857142857142, 21.428571428571427\n",
            "attacking cards played: 2.571428571428571\n",
            "attacking: 17.142857142857142, 21.428571428571427\n",
            "attacking cards played: 2.571428571428571\n",
            "attacking: 17.142857142857142, 21.428571428571427\n",
            "attacking cards played: 2.571428571428571\n",
            "attacking: 17.142857142857142, 21.428571428571427\n",
            "attacking cards played: 2.571428571428571\n",
            "attacking: 17.142857142857142, 21.428571428571427\n",
            "attacking cards played: 2.571428571428571\n",
            "attacking: 17.142857142857142, 21.428571428571427\n",
            "attacking cards played: 2.571428571428571\n",
            "attacking: 17.142857142857142, 21.428571428571427\n",
            "Upgrading Bash to Bash+ increases frontload damage by 12.781954887218028 percent\n"
          ]
        }
      ]
    },
    {
      "cell_type": "markdown",
      "source": [
        "# VISUALIZE DECK"
      ],
      "metadata": {
        "id": "UY-MjnM52r0z"
      }
    },
    {
      "cell_type": "code",
      "source": [
        "import matplotlib.pyplot as plt\n",
        "from itertools import combinations\n",
        "import numpy as np\n",
        "\n",
        "a2_deck = Deck([\n",
        "        ADRENALINE, AFTER_IMAGE_PLUS, GLASS_KNIFE, TOOLS_OF_THE_TRADE_PLUS,\n",
        "        BLUR, DASH_PLUS, FINISHER_PLUS, FOOTWORK_PLUS, FOOTWORK_PLUS,\n",
        "        HEEL_HOOK, ACROBATICS_PLUS, ACROBATICS_PLUS, BLADE_DANCE,\n",
        "        CLOAK_AND_DAGGER, CLOAK_AND_DAGGER_PLUS, CLOAK_AND_DAGGER_PLUS,\n",
        "        DAGGER_SPRAY_PLUS, DAGGER_THROW, PIERCING_WAIL, PIERCING_WAIL_PLUS,\n",
        "        SNEAKY_STRIKE_PLUS, SNEAKY_STRIKE_PLUS, NEUTRALIZE_PLUS,\n",
        "        STRIKE_PLUS, STRIKE_PLUS, STRIKE_PLUS, SURVIVOR, BANDAGE_UP,\n",
        "        DEFEND_PLUS, DEFEND_PLUS, DEFEND_PLUS])\n",
        "\n",
        "starter_hands = Hands(STARTER_DECK)\n",
        "\n",
        "# Base deck: Attack ~15 per turn\n",
        "# Defense ~10 per turn\n",
        "new_cards = [\n",
        "            STRIKE, STRIKE, STRIKE, STRIKE, STRIKE,\n",
        "            DEFEND, DEFEND, DEFEND, DEFEND, DEFEND,\n",
        "            SURVIVOR, NEUTRALIZE, BOUNCING_FLASK\n",
        "          ]\n",
        "current_hands = Hands(Deck(new_cards))\n",
        "\n",
        "p_cards = [\n",
        "          ]\n",
        "p_hands = Hands(Deck(p_cards), hand_size=5)\n",
        "\n",
        "current_hands.visualize()\n",
        "print(\"\\n\\n\\nCOMPARE\\n\")\n",
        "current_hands.compare(starter_hands)\n",
        "#current_hands.compare(p_hands)"
      ],
      "metadata": {
        "colab": {
          "base_uri": "https://localhost:8080/",
          "height": 1000
        },
        "id": "F9jv6_KHp3Wj",
        "outputId": "f5d83b92-b7e3-4bde-ef01-c6916f2865b2"
      },
      "execution_count": null,
      "outputs": [
        {
          "output_type": "stream",
          "name": "stdout",
          "text": [
            "******************************************\n",
            "Number of Cards: 13\n",
            "Number of Attack Cards 6\n",
            "Number of Block Cards: 6\n",
            "\n",
            "ATTACKS\n",
            "\n",
            "Total Attack: 33\n",
            "Avg Attack Per Hand: 12.692308\n",
            "\n",
            "\n"
          ]
        },
        {
          "output_type": "display_data",
          "data": {
            "text/plain": [
              "<Figure size 432x288 with 1 Axes>"
            ],
            "image/png": "[encoded data removed]"
          },
          "metadata": {
            "needs_background": "light"
          }
        },
        {
          "output_type": "stream",
          "name": "stdout",
          "text": [
            "\n",
            "BLOCKS\n",
            "\n",
            "Total Block: 33\n",
            "Avg Block Per Hand: 12.692308\n",
            "\n",
            "\n"
          ]
        },
        {
          "output_type": "display_data",
          "data": {
            "text/plain": [
              "<Figure size 432x288 with 1 Axes>"
            ],
            "image/png": "[encoded data removed]"
          },
          "metadata": {
            "needs_background": "light"
          }
        },
        {
          "output_type": "stream",
          "name": "stdout",
          "text": [
            "\n",
            "ENERGY COST PER HAND\n",
            "\n",
            "Total Energy: 13\n",
            "Avg Energy Per Hand: 5.000000\n"
          ]
        },
        {
          "output_type": "display_data",
          "data": {
            "text/plain": [
              "<Figure size 432x288 with 1 Axes>"
            ],
            "image/png": "[encoded data removed]"
          },
          "metadata": {
            "needs_background": "light"
          }
        },
        {
          "output_type": "stream",
          "name": "stdout",
          "text": [
            "\n",
            "\n",
            "\n",
            "COMPARE\n",
            "\n",
            "Number of Cards: 13.000000 => 11.000000\n",
            "Number of Attack Cards: 6.000000 => 6.000000\n",
            "Number of Block Cards: 6.000000 => 5.000000\n",
            "\n",
            "ATTACKS\n",
            "\n",
            "Total Attack: 33.000000 => 33.000000\n",
            "Avg Attack Per Hand: 12.692308 => 15.000000\n",
            "\n",
            "\n"
          ]
        },
        {
          "output_type": "display_data",
          "data": {
            "text/plain": [
              "<Figure size 432x288 with 2 Axes>"
            ],
            "image/png": "[encoded data removed]"
          },
          "metadata": {
            "needs_background": "light"
          }
        },
        {
          "output_type": "stream",
          "name": "stdout",
          "text": [
            "\n",
            "BLOCKS\n",
            "\n",
            "Total Block: 33.000000 => 25.000000\n",
            "Avg Block Per Hand: 12.692308 => 11.363636\n",
            "\n",
            "\n"
          ]
        },
        {
          "output_type": "display_data",
          "data": {
            "text/plain": [
              "<Figure size 432x288 with 2 Axes>"
            ],
            "image/png": "[encoded data removed]"
          },
          "metadata": {
            "needs_background": "light"
          }
        },
        {
          "output_type": "stream",
          "name": "stdout",
          "text": [
            "\n",
            "ENERGY\n",
            "\n",
            "Total Energy: 13.000000 => 10.000000\n",
            "Avg Energy Per Hand: 5.000000 => 4.545455\n",
            "\n",
            "\n"
          ]
        },
        {
          "output_type": "display_data",
          "data": {
            "text/plain": [
              "<Figure size 432x288 with 2 Axes>"
            ],
            "image/png": "[encoded data removed]"
          },
          "metadata": {
            "needs_background": "light"
          }
        }
      ]
    }
  ]
}